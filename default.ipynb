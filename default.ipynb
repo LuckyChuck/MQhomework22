{
 "cells": [
  {
   "cell_type": "code",
   "execution_count": 1,
   "metadata": {},
   "outputs": [
    {
     "name": "stderr",
     "output_type": "stream",
     "text": [
      "D:\\python\\lib\\site-packages\\statsmodels\\tools\\_testing.py:19: FutureWarning: pandas.util.testing is deprecated. Use the functions in the public API at pandas.testing instead.\n",
      "  import pandas.util.testing as tm\n"
     ]
    }
   ],
   "source": [
    "import pandas as pd\n",
    "import matplotlib.pyplot as plt\n",
    "import seaborn as sns\n",
    "from sklearn.metrics import accuracy_score\n",
    "from sklearn.preprocessing import StandardScaler\n",
    "from sklearn.svm import  SVC\n",
    "from sklearn.tree import DecisionTreeClassifier\n",
    "from sklearn.ensemble import RandomForestClassifier\n",
    "from sklearn.neighbors import KNeighborsClassifier\n",
    "from sklearn.model_selection import GridSearchCV\n",
    "from sklearn.pipeline import Pipeline\n"
   ]
  },
  {
   "cell_type": "code",
   "execution_count": 3,
   "metadata": {},
   "outputs": [],
   "source": [
    "\n",
    "#数据加载\n",
    "data = pd.read_csv('./UCI_Credit_Card.csv')\n",
    "# print(data.shape)\n",
    "# print(data.describe())\n",
    "\n",
    "next_month = data['default.payment.next.month'].value_counts()\n",
    "# print(next_month)\n",
    "\n",
    "df = pd.DataFrame({'default.payment.next.month':next_month.index,'values':next_month.values})\n",
    "# print(df)\n"
   ]
  },
  {
   "cell_type": "code",
   "execution_count": 4,
   "metadata": {},
   "outputs": [
    {
     "data": {
      "image/png": "[encoded data removed]",
      "text/plain": [
       "<Figure size 432x288 with 1 Axes>"
      ]
     },
     "metadata": {
      "needs_background": "light"
     },
     "output_type": "display_data"
    }
   ],
   "source": [
    "#显示违约标签数据分布\n",
    "plt.title('Credit Default')\n",
    "sns.barplot(x='default.payment.next.month',y='values',data=df)\n",
    "plt.show()"
   ]
  },
  {
   "cell_type": "code",
   "execution_count": 5,
   "metadata": {},
   "outputs": [
    {
     "name": "stdout",
     "output_type": "stream",
     "text": [
      "['LIMIT_BAL', 'SEX', 'EDUCATION', 'MARRIAGE', 'AGE', 'PAY_0', 'PAY_2', 'PAY_3', 'PAY_4', 'PAY_5', 'PAY_6', 'BILL_AMT1', 'BILL_AMT2', 'BILL_AMT3', 'BILL_AMT4', 'BILL_AMT5', 'BILL_AMT6', 'PAY_AMT1', 'PAY_AMT2', 'PAY_AMT3', 'PAY_AMT4', 'PAY_AMT5', 'PAY_AMT6', 'default.payment.next.month']\n",
      "[[2.0000e+04 2.0000e+00 2.0000e+00 ... 0.0000e+00 0.0000e+00 0.0000e+00]\n",
      " [1.2000e+05 2.0000e+00 2.0000e+00 ... 1.0000e+03 0.0000e+00 2.0000e+03]\n",
      " [9.0000e+04 2.0000e+00 2.0000e+00 ... 1.0000e+03 1.0000e+03 5.0000e+03]\n",
      " ...\n",
      " [3.0000e+04 1.0000e+00 2.0000e+00 ... 4.2000e+03 2.0000e+03 3.1000e+03]\n",
      " [8.0000e+04 1.0000e+00 3.0000e+00 ... 1.9260e+03 5.2964e+04 1.8040e+03]\n",
      " [5.0000e+04 1.0000e+00 2.0000e+00 ... 1.0000e+03 1.0000e+03 1.0000e+03]]\n"
     ]
    }
   ],
   "source": [
    "#元数据中ID字段对预测业务没有实际意义，这里去掉\n",
    "data.drop(['ID'],inplace=True,axis=1)\n",
    "\n",
    "#标签\n",
    "target = data['default.payment.next.month'].values\n",
    "\n",
    "columns = data.columns.tolist()\n",
    "print(columns)\n",
    "\n",
    "#将标签列名去除\n",
    "columns.remove('default.payment.next.month')\n",
    "\n",
    "features = data[columns].values\n",
    "print(features)"
   ]
  },
  {
   "cell_type": "code",
   "execution_count": 6,
   "metadata": {},
   "outputs": [
    {
     "name": "stdout",
     "output_type": "stream",
     "text": [
      "(21000, 23)\n",
      "(21000,)\n",
      "(9000, 23)\n",
      "(9000,)\n"
     ]
    }
   ],
   "source": [
    "#将元数据30%作为训练集\n",
    "from sklearn.model_selection import train_test_split\n",
    "\n",
    "train_x,test_x,train_y,test_y = train_test_split(features,target,test_size=0.3)\n",
    "print(train_x.shape)\n",
    "print(train_y.shape)\n",
    "print(test_x.shape)\n",
    "print(test_y.shape)"
   ]
  },
  {
   "cell_type": "code",
   "execution_count": 7,
   "metadata": {},
   "outputs": [
    {
     "name": "stdout",
     "output_type": "stream",
     "text": [
      "GridSearchCV最优参数： {'svc__C': 1, 'svc__gamma': 0.01}\n",
      "GridSearchCV最优分数： 0.816952380952381\n",
      "准确率0.8164\n",
      "GridSearchCV最优参数： {'decisiontreeclassifier__max_depth': 6}\n",
      "GridSearchCV最优分数： 0.8185238095238097\n",
      "准确率0.8191\n",
      "GridSearchCV最优参数： {'randomforestclassifier__n_estimators': 6}\n",
      "GridSearchCV最优分数： 0.795047619047619\n",
      "准确率0.8010\n",
      "GridSearchCV最优参数： {'kneighborsclassifier__n_neighbors': 8}\n",
      "GridSearchCV最优分数： 0.8033333333333333\n",
      "准确率0.8028\n"
     ]
    }
   ],
   "source": [
    "#构造各种分类器\n",
    "classifiers = [\n",
    "    SVC(),\n",
    "    DecisionTreeClassifier(),\n",
    "    RandomForestClassifier(),\n",
    "    KNeighborsClassifier()\n",
    "]\n",
    "#分类器名称\n",
    "classifier_names = [\n",
    "    'svc',\n",
    "    'decisiontreeclassifier',\n",
    "    'randomforestclassifier',\n",
    "    'kneighborsclassifier'\n",
    "]\n",
    "\n",
    "# 分类器参数\n",
    "classifier_param_grid = [\n",
    "            {'svc__C':[1], 'svc__gamma':[0.01]},\n",
    "            {'decisiontreeclassifier__max_depth':[6,9,11]},\n",
    "            {'randomforestclassifier__n_estimators':[3,5,6]} ,\n",
    "            {'kneighborsclassifier__n_neighbors':[4,6,8]},\n",
    "]\n",
    "\n",
    "#对具体的分类器进行GridSearchCV参数调优\n",
    "def GridSearchCV_work(pipeline, train_x, train_y, test_x, test_y, model_param_grid, score='accuracy'):\n",
    "    gridsearch = GridSearchCV(estimator=pipeline,param_grid=model_param_grid,scoring=score)\n",
    "    #寻找最优参数  和 最优的准确率分数\n",
    "    search = gridsearch.fit(train_x,train_y)\n",
    "    print('GridSearchCV最优参数：',search.best_params_)\n",
    "    print('GridSearchCV最优分数：',search.best_score_)\n",
    "    predict_y = search.predict(test_x)\n",
    "    print('准确率%0.4lf' %accuracy_score(test_y,predict_y))\n",
    "\n",
    "    response = {}\n",
    "    response['predict_y'] = predict_y\n",
    "    response['accuracy_score'] = accuracy_score(test_y,predict_y)\n",
    "    return  response\n",
    "\n",
    "\n",
    "for model, model_name, model_param_grid in zip(classifiers, classifier_names, classifier_param_grid):\n",
    "    pipeline = Pipeline([\n",
    "        ('scaler', StandardScaler()),\n",
    "        (model_name, model)\n",
    "    ])\n",
    "    result = GridSearchCV_work(pipeline, train_x, train_y, test_x, test_y, model_param_grid, score='accuracy')\n"
   ]
  },
  {
   "cell_type": "code",
   "execution_count": null,
   "metadata": {},
   "outputs": [],
   "source": []
  }
 ],
 "metadata": {
  "kernelspec": {
   "display_name": "Python 3",
   "language": "python",
   "name": "python3"
  },
  "language_info": {
   "codemirror_mode": {
    "name": "ipython",
    "version": 3
   },
   "file_extension": ".py",
   "mimetype": "text/x-python",
   "name": "python",
   "nbconvert_exporter": "python",
   "pygments_lexer": "ipython3",
   "version": "3.7.4"
  }
 },
 "nbformat": 4,
 "nbformat_minor": 2
}
